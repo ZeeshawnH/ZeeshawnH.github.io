{
 "cells": [
  {
   "cell_type": "code",
   "execution_count": 1,
   "id": "c28c924e",
   "metadata": {},
   "outputs": [],
   "source": [
    "# Packages\n",
    "import json\n",
    "import pandas as pd\n",
    "import tarfile\n",
    "import matplotlib.pyplot as plt\n",
    "import numpy as np\n",
    "import datetime\n",
    "import tqdm"
   ]
  },
  {
   "cell_type": "code",
   "execution_count": 9,
   "id": "1c86aeb0",
   "metadata": {},
   "outputs": [
    {
     "name": "stdout",
     "output_type": "stream",
     "text": [
      "city\n",
      "Philadelphia      14569\n",
      "Tucson             9250\n",
      "Tampa              9050\n",
      "Indianapolis       7540\n",
      "Nashville          6971\n",
      "                  ...  \n",
      "Gentilly              1\n",
      "pennsauken            1\n",
      "Hamiltion             1\n",
      "Newtown square        1\n",
      "Apollo beach          1\n",
      "Name: count, Length: 1416, dtype: int64\n",
      "['business_id', 'date']\n",
      "['review_id', 'user_id', 'business_id', 'stars', 'useful', 'funny', 'cool', 'text', 'date']\n",
      "number of reviews:  1422441\n",
      "number of checkins:  20897\n"
     ]
    }
   ],
   "source": [
    "# Data import\n",
    "red_city = \"Tampa\"\n",
    "blue_city = \"Philadelphia\"\n",
    "\n",
    "business_full = pd.read_json(\"yelp_academic_dataset_business.json\", lines=True, engine=\"pyarrow\")\n",
    "print(business_full['city'].value_counts())\n",
    "red_business = business_full[business_full['city'] == red_city][\"business_id\"].values\n",
    "blue_business = business_full[business_full['city'] == blue_city][\"business_id\"].values\n",
    "business = business_full[business_full['city'].isin([red_city, blue_city])]\n",
    "\n",
    "\n",
    "try:\n",
    "    checkins = pd.read_json(\"yelp_academic_dataset_checkin.json\", lines=True, engine=\"pyarrow\")\n",
    "    print(checkins.columns.tolist())\n",
    "    reviews = pd.read_json(\"yelp_academic_dataset_review.json\", lines=True,engine = \"pyarrow\")\n",
    "    print(reviews.columns.tolist())\n",
    "    if 'business_id' not in reviews.columns:\n",
    "        raise KeyError(\"Column 'business_id' not found in review data.\")\n",
    "    reviews = reviews[reviews['business_id'].isin((red_business.tolist() + blue_business.tolist()))]\n",
    "    checkins = checkins[checkins['business_id'].isin((red_business.tolist() + blue_business.tolist()))]\n",
    "except Exception as e:\n",
    "    # Fallback: Load a sample to debug\n",
    "    reviews = pd.read_json(\"yelp_academic_dataset_review.json\", lines=True, nrows=10)\n",
    "    print(\"Error loading data:\", e)\n",
    "\n",
    "print(\"number of reviews: \", len(reviews))\n",
    "print(\"number of checkins: \", len(checkins))\n",
    "\n",
    "reviews.loc[reviews['business_id'].isin(red_business), 'city'] = red_city\n",
    "reviews.loc[reviews['business_id'].isin(blue_business), 'city'] = blue_city\n",
    "reviews['date'] = pd.to_datetime(reviews['date'])\n",
    "\n",
    "\n",
    "checkins.loc[checkins['business_id'].isin(red_business), 'city'] = red_city\n",
    "checkins.loc[checkins['business_id'].isin(blue_business), 'city'] = blue_city   \n",
    "\n",
    "\n",
    "checkins['date_list'] = None\n",
    "checkins['date_list'] = checkins['date'].apply(lambda x: [datetime.datetime.strptime(date.strip(), \"%Y-%m-%d %H:%M:%S\") \n",
    "                                                         for date in x.split(',')])\n"
   ]
  },
  {
   "cell_type": "code",
   "execution_count": null,
   "id": "62d4cf42",
   "metadata": {},
   "outputs": [
    {
     "name": "stdout",
     "output_type": "stream",
     "text": [
      "['business_id', 'name', 'address', 'city', 'state', 'postal_code', 'latitude', 'longitude', 'stars', 'review_count', 'is_open', 'attributes', 'categories', 'hours']\n"
     ]
    }
   ],
   "source": [
    "print(business_full['city'] == 'St. Petersburg')"
   ]
  },
  {
   "cell_type": "code",
   "execution_count": 1,
   "id": "51efbd02",
   "metadata": {},
   "outputs": [
    {
     "name": "stderr",
     "output_type": "stream",
     "text": [
      "/var/folders/vp/9n7gmff94b5ctkj5gylfcdnm0000gn/T/ipykernel_84786/1193193488.py:6: DeprecationWarning: numpy.core.numeric is deprecated and has been renamed to numpy._core.numeric. The numpy._core namespace contains private NumPy internals and its use is discouraged, as NumPy internals can change without warning in any release. In practice, most real-world usage of numpy.core is to access functionality in the public NumPy API. If that is the case, use the public NumPy API. If not, you are using NumPy internals. If you would still like to access an internal attribute, use numpy._core.numeric._frombuffer.\n",
      "  restaurants = pickle.load(f)\n",
      "/var/folders/vp/9n7gmff94b5ctkj5gylfcdnm0000gn/T/ipykernel_84786/1193193488.py:10: DeprecationWarning: numpy.core.numeric is deprecated and has been renamed to numpy._core.numeric. The numpy._core namespace contains private NumPy internals and its use is discouraged, as NumPy internals can change without warning in any release. In practice, most real-world usage of numpy.core is to access functionality in the public NumPy API. If that is the case, use the public NumPy API. If not, you are using NumPy internals. If you would still like to access an internal attribute, use numpy._core.numeric._frombuffer.\n",
      "  reviews = pickle.load(f)\n"
     ]
    },
    {
     "name": "stdout",
     "output_type": "stream",
     "text": [
      "Number of restaurants:  8857\n",
      "Number of reviews:  992701\n"
     ]
    }
   ],
   "source": [
    "import pickle\n",
    "\n",
    "# Import pickle data\n",
    "file = 'restaurants.pkl'\n",
    "with open(file, 'rb') as f:\n",
    "    restaurants = pickle.load(f)\n",
    "\n",
    "file = 'restaurant_reviews.pkl'\n",
    "with open(file, 'rb') as f:\n",
    "    reviews = pickle.load(f)\n",
    "\n",
    "# Check the data\n",
    "print(\"Number of restaurants: \", len(restaurants))\n",
    "print(\"Number of reviews: \", len(reviews))"
   ]
  },
  {
   "cell_type": "code",
   "execution_count": 2,
   "id": "143799a9",
   "metadata": {},
   "outputs": [
    {
     "ename": "NameError",
     "evalue": "name 'datetime' is not defined",
     "output_type": "error",
     "traceback": [
      "\u001b[31m---------------------------------------------------------------------------\u001b[39m",
      "\u001b[31mNameError\u001b[39m                                 Traceback (most recent call last)",
      "\u001b[36mCell\u001b[39m\u001b[36m \u001b[39m\u001b[32mIn[2]\u001b[39m\u001b[32m, line 6\u001b[39m\n\u001b[32m      3\u001b[39m \u001b[38;5;28;01mimport\u001b[39;00m\u001b[38;5;250m \u001b[39m\u001b[34;01mmatplotlib\u001b[39;00m\u001b[34;01m.\u001b[39;00m\u001b[34;01mpyplot\u001b[39;00m\u001b[38;5;250m \u001b[39m\u001b[38;5;28;01mas\u001b[39;00m\u001b[38;5;250m \u001b[39m\u001b[34;01mplt\u001b[39;00m\n\u001b[32m      5\u001b[39m \u001b[38;5;66;03m# Define restriction dates\u001b[39;00m\n\u001b[32m----> \u001b[39m\u001b[32m6\u001b[39m start_restrictions = \u001b[43mdatetime\u001b[49m.datetime(\u001b[32m2020\u001b[39m, \u001b[32m3\u001b[39m, \u001b[32m16\u001b[39m)\n\u001b[32m      7\u001b[39m end_restrictions_blue = datetime.datetime(\u001b[32m2021\u001b[39m, \u001b[32m6\u001b[39m, \u001b[32m2\u001b[39m)\n\u001b[32m      8\u001b[39m end_restrictions_red = datetime.datetime(\u001b[32m2021\u001b[39m, \u001b[32m5\u001b[39m, \u001b[32m3\u001b[39m)\n",
      "\u001b[31mNameError\u001b[39m: name 'datetime' is not defined"
     ]
    }
   ],
   "source": [
    "import calplot\n",
    "from matplotlib.colors import LinearSegmentedColormap\n",
    "import matplotlib.pyplot as plt\n",
    "\n",
    "# Define restriction dates\n",
    "start_restrictions = datetime.datetime(2020, 3, 16)\n",
    "end_restrictions_blue = datetime.datetime(2021, 6, 2)\n",
    "end_restrictions_red = datetime.datetime(2021, 5, 3)\n",
    "\n",
    "# Get restaurants that are open before and after the restrictions\n",
    "# Get businesses that are currently open\n",
    "business_open_after = business[business['is_open'] == 1]\n",
    "# Ger reviews with date before the restrictions\n",
    "reviews_before = reviews[reviews['date'] < start_restrictions]\n",
    "# Get businesses whose business_id is in the reviews before the restrictions\n",
    "business_open_after = business_open_after[business_open_after['business_id'].isin(reviews_before['business_id'])]\n",
    "\n",
    "# Get closes businesses\n",
    "business_closed = business[business['is_open'] == 0]\n",
    "# Get businesses with business_id in the reviews before the restrictions\n",
    "business_closed = business_closed[business_closed['business_id'].isin(reviews_before['business_id'])]\n",
    "\n",
    "\n",
    "# Filter by red and blue cities\n",
    "business_open_after_red = business_open_after[business_open_after['city'] == red_city]\n",
    "business_open_after_blue = business_open_after[business_open_after['city'] == blue_city]\n",
    "business_closed_red = business_closed[business_closed['city'] == red_city]\n",
    "business_closed_blue = business_closed[business_closed['city'] == blue_city]\n",
    "\n",
    "# Get the number of businesses in each category\n",
    "print(len(business_open_after_red), len(business_open_after_blue))\n",
    "print(len(business_closed_red), len(business_closed_blue))\n",
    "\n",
    "# Get reviews for each category\n",
    "reviews_open_after_red = reviews[reviews['business_id'].isin(business_open_after_red['business_id'])]\n",
    "reviews_open_after_blue = reviews[reviews['business_id'].isin(business_open_after_blue['business_id'])]\n",
    "reviews_closed_red = reviews[reviews['business_id'].isin(business_closed_red['business_id'])]\n",
    "reviews_closed_blue = reviews[reviews['business_id'].isin(business_closed_blue['business_id'])]\n",
    "\n",
    "# Subset all reviews to only 2019 onwards\n",
    "reviews_open_after_red = reviews_open_after_red[reviews_open_after_red['date'] >= '2019-01-01']\n",
    "reviews_open_after_blue = reviews_open_after_blue[reviews_open_after_blue['date'] >= '2019-01-01']\n",
    "reviews_closed_red = reviews_closed_red[reviews_closed_red['date'] >= '2019-01-01']\n",
    "reviews_closed_blue = reviews_closed_blue[reviews_closed_blue['date'] >= '2019-01-01']\n",
    "\n",
    "# Calplot of reviews\n",
    "colors_normal = [\n",
    "    (1.00, 1.00, 0.90),  \n",
    "    (0.90, 0.97, 0.70),  \n",
    "    (0.78, 0.94, 0.55),  \n",
    "    (0.65, 0.90, 0.40),  \n",
    "    (0.45, 0.80, 0.20),  \n",
    "    (0.30, 0.70, 0.10),  \n",
    "    (0.15, 0.50, 0.05),  \n",
    "    (0.00, 0.00, 0.00),   \n",
    "]\n",
    "reviews_indexed = reviews_open_after_red['date'].value_counts().sort_index()\n",
    "cmap_normal = LinearSegmentedColormap.from_list(\"custom_YlGn\", colors_normal, N=100)\n",
    "calplot.calplot(reviews_indexed, edgecolor='black', linewidth=0.5, cmap=cmap_normal, suptitle='Number of Reviews')\n",
    "\n",
    "reviews_indexed = reviews_open_after_blue['date'].value_counts().sort_index()\n",
    "cmap_normal = LinearSegmentedColormap.from_list(\"custom_YlGn\", colors_normal, N=100)\n",
    "calplot.calplot(reviews_indexed, edgecolor='black', linewidth=0.5, cmap=cmap_normal, suptitle='Number of Reviews')\n",
    "\n",
    "reviews_indexed = reviews_closed_red['date'].value_counts().sort_index()\n",
    "cmap_normal = LinearSegmentedColormap.from_list(\"custom_YlGn\", colors_normal, N=100)\n",
    "calplot.calplot(reviews_indexed, edgecolor='black', linewidth=0.5, cmap=cmap_normal, suptitle='Number of Reviews')\n",
    "\n",
    "reviews_indexed = reviews_closed_blue['date'].value_counts().sort_index()\n",
    "cmap_normal = LinearSegmentedColormap.from_list(\"custom_YlGn\", colors_normal, N=100)\n",
    "calplot.calplot(reviews_indexed, edgecolor='black', linewidth=0.5, cmap=cmap_normal, suptitle='Number of Reviews')"
   ]
  },
  {
   "cell_type": "code",
   "execution_count": 3,
   "id": "e9e34eb3",
   "metadata": {},
   "outputs": [],
   "source": [
    "restaurants['categories'] = restaurants['categories'].str.split(',').apply(lambda lst: [x.strip() for x in lst])\n",
    "\n",
    "category_counts = restaurants.explode('categories')['categories'].value_counts()"
   ]
  },
  {
   "cell_type": "code",
   "execution_count": 5,
   "id": "4dea6495",
   "metadata": {},
   "outputs": [
    {
     "name": "stdout",
     "output_type": "stream",
     "text": [
      "categories\n",
      "Restaurants                  8857\n",
      "Food                         2910\n",
      "Nightlife                    1564\n",
      "Bars                         1492\n",
      "Sandwiches                   1407\n",
      "Pizza                        1106\n",
      "American (New)               1105\n",
      "American (Traditional)       1091\n",
      "Breakfast & Brunch           1023\n",
      "Coffee & Tea                  814\n",
      "Italian                       721\n",
      "Fast Food                     710\n",
      "Burgers                       648\n",
      "Chinese                       617\n",
      "Seafood                       582\n",
      "Cafes                         549\n",
      "Mexican                       546\n",
      "Event Planning & Services     482\n",
      "Salad                         471\n",
      "Chicken Wings                 442\n",
      "Name: count, dtype: int64\n"
     ]
    }
   ],
   "source": [
    "print(category_counts.head(20))"
   ]
  },
  {
   "cell_type": "code",
   "execution_count": 13,
   "id": "2684cc2d",
   "metadata": {},
   "outputs": [
    {
     "name": "stdout",
     "output_type": "stream",
     "text": [
      "                     pre   during     post  pre_norm  during_norm  post_norm  \\\n",
      "categories                                                                     \n",
      "Restaurants     875106.0  78618.0  38977.0  1.000000     1.000000   1.000000   \n",
      "Food            284454.0  27224.0  12982.0  0.325051     0.346282   0.333068   \n",
      "Nightlife       270952.0  20768.0  11632.0  0.309622     0.264163   0.298432   \n",
      "Bars            263180.0  20245.0  11315.0  0.300741     0.257511   0.290299   \n",
      "Sandwiches      134994.0  12056.0   5565.0  0.154260     0.153349   0.142777   \n",
      "...                  ...      ...      ...       ...          ...        ...   \n",
      "Hainan               0.0     44.0     25.0  0.000000     0.000560   0.000641   \n",
      "Costumes           408.0      9.0     11.0  0.000466     0.000114   0.000282   \n",
      "South African        8.0     10.0      3.0  0.000009     0.000127   0.000077   \n",
      "Pet Stores          51.0     15.0      2.0  0.000058     0.000191   0.000051   \n",
      "Spiritual Shop      11.0      7.0      5.0  0.000013     0.000089   0.000128   \n",
      "\n",
      "                post_vs_pre  during_vs_pre  \n",
      "categories                                  \n",
      "Restaurants        0.000000       0.000000  \n",
      "Food               0.024665       0.065316  \n",
      "Nightlife         -0.036139      -0.146819  \n",
      "Bars              -0.034719      -0.143744  \n",
      "Sandwiches        -0.074443      -0.005906  \n",
      "...                     ...            ...  \n",
      "Hainan                  inf            inf  \n",
      "Costumes          -0.394680      -0.754461  \n",
      "South African      7.419446      12.913894  \n",
      "Pet Stores        -0.119535       2.273857  \n",
      "Spiritual Shop     9.205389       6.083437  \n",
      "\n",
      "[476 rows x 8 columns]\n"
     ]
    }
   ],
   "source": [
    "import pandas as pd\n",
    "\n",
    "# Convert review date to datetime\n",
    "reviews['date'] = pd.to_datetime(reviews['date'])\n",
    "\n",
    "# Define time periods\n",
    "pre_covid = reviews[reviews['date'] < '2020-03-01']\n",
    "during_covid = reviews[(reviews['date'] >= '2020-03-01') & (reviews['date'] <= '2021-06-30')]\n",
    "post_covid = reviews[reviews['date'] > '2021-06-30']\n",
    "\n",
    "# Convert comma-separated category strings to lists\n",
    "# restaurants['categories'] = restaurants['categories'].fillna('').apply(lambda x: [cat.strip() for cat in x.split(',') if cat.strip()])\n",
    "\n",
    "# Explode categories so each row has one category\n",
    "restaurants_exploded = restaurants.explode('categories')\n",
    "\n",
    "# Function to count reviews per category for a given period\n",
    "def count_reviews_by_period(reviews_period, label):\n",
    "    merged = reviews_period.merge(restaurants_exploded[['business_id', 'categories']], on='business_id')\n",
    "    return merged.groupby('categories').size().rename(label)\n",
    "\n",
    "# Count reviews for each period\n",
    "pre = count_reviews_by_period(pre_covid, 'pre')\n",
    "during = count_reviews_by_period(during_covid, 'during')\n",
    "post = count_reviews_by_period(post_covid, 'post')\n",
    "\n",
    "# Combine into one DataFrame\n",
    "combined = pd.concat([pre, during, post], axis=1).fillna(0)\n",
    "\n",
    "# Normalize by total reviews in each period\n",
    "combined['pre_norm'] = combined['pre'] / len(pre_covid)\n",
    "combined['during_norm'] = combined['during'] / len(during_covid)\n",
    "combined['post_norm'] = combined['post'] / len(post_covid)\n",
    "\n",
    "# Calculate relative growth\n",
    "combined['post_vs_pre'] = (combined['post_norm'] - combined['pre_norm']) / combined['pre_norm']\n",
    "combined['during_vs_pre'] = (combined['during_norm'] - combined['pre_norm']) / combined['pre_norm']\n",
    "\n",
    "# Optional: sort by post-pandemic growth\n",
    "combined = combined.sort_values(by='post_vs_pre', ascending=False)\n",
    "\n",
    "# Example: view changes for Mexican and American restaurants\n",
    "print(combined.loc[category_counts.index])\n"
   ]
  }
 ],
 "metadata": {
  "kernelspec": {
   "display_name": "3.11.11",
   "language": "python",
   "name": "python3"
  },
  "language_info": {
   "codemirror_mode": {
    "name": "ipython",
    "version": 3
   },
   "file_extension": ".py",
   "mimetype": "text/x-python",
   "name": "python",
   "nbconvert_exporter": "python",
   "pygments_lexer": "ipython3",
   "version": "3.11.11"
  }
 },
 "nbformat": 4,
 "nbformat_minor": 5
}
